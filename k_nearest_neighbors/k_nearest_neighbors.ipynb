{
 "cells": [
  {
   "cell_type": "code",
   "execution_count": 1,
   "metadata": {},
   "outputs": [],
   "source": [
    "import matplotlib.pyplot as plt\n",
    "import numpy as np\n",
    "import pandas as pd\n",
    "import scipy.spatial.distance as sp_dist\n",
    "import seaborn"
   ]
  },
  {
   "cell_type": "code",
   "execution_count": 2,
   "metadata": {},
   "outputs": [],
   "source": [
    "plt.rcParams[\"figure.figsize\"] = (60,30)\n",
    "\n",
    "seaborn.set(font_scale=2.5)\n",
    "seaborn.set_style(\"whitegrid\")"
   ]
  },
  {
   "cell_type": "code",
   "execution_count": 3,
   "metadata": {},
   "outputs": [],
   "source": [
    "K = 5"
   ]
  },
  {
   "cell_type": "code",
   "execution_count": 4,
   "metadata": {},
   "outputs": [
    {
     "name": "stdout",
     "output_type": "stream",
     "text": [
      "Array shape: (567, 10)\n"
     ]
    }
   ],
   "source": [
    "cancer = (\n",
    "    pd.read_csv(\n",
    "        \"~/Documents/github/classification-exercises/k_nearest_neighbors/BreastCancer.csv\",\n",
    "        header=0,\n",
    "        names=[\"id\", \"diag\", \"radius\", \"texture\", \"perimeter\", \"area\", \"smoothness\",\n",
    "               \"compactness\", \"concavity\", \"concave_points\", \"symmetry\", \"fractal_dimension\"])\n",
    "    .sample(frac=1)\n",
    "    .dropna(axis=0)\n",
    "    .drop(columns=[\"id\"])\n",
    "    .replace({\"diag\": {\"M\": 1, \"B\": 0}})\n",
    ")\n",
    "\n",
    "X = cancer.drop(columns=[\"diag\"]).to_numpy()\n",
    "y = cancer[\"diag\"].values\n",
    "\n",
    "dim_ = X.shape\n",
    "print(\"Array shape: \"+str(dim_))"
   ]
  },
  {
   "cell_type": "code",
   "execution_count": 5,
   "metadata": {},
   "outputs": [],
   "source": [
    "pct_train = 0.80\n",
    "\n",
    "idx_train = np.random.choice(range(dim_[0]), round(pct_train * dim_[0]), replace=False)\n",
    "idx_test = [i for i in range(dim_[0]) if i not in idx_train]\n",
    "\n",
    "Xtrain = X[idx_train]\n",
    "Xtest = X[idx_test]\n",
    "ytrain = y[idx_train]\n",
    "ytest = y[idx_test]"
   ]
  },
  {
   "cell_type": "code",
   "execution_count": 6,
   "metadata": {},
   "outputs": [
    {
     "name": "stdout",
     "output_type": "stream",
     "text": [
      "Complete target value count:\n",
      "   Target  Count  Percent\n",
      "0       0    357  0.62963\n",
      "1       1    210  0.37037\n",
      "\n",
      "Train target value count:\n",
      "   Target  Count   Percent\n",
      "0       0    287  0.632159\n",
      "1       1    167  0.367841\n",
      "\n",
      "Test target value count:\n",
      "   Target  Count   Percent\n",
      "0       0     70  0.619469\n",
      "1       1     43  0.380531\n",
      "\n"
     ]
    }
   ],
   "source": [
    "list_targets = [(\"Complete\", y), (\"Train\", ytrain), (\"Test\", ytest)]\n",
    "\n",
    "for name_, array_ in list_targets:\n",
    "    \n",
    "    df_counts = pd.DataFrame(np.unique(array_, return_counts=True)).T\n",
    "    df_counts.columns = [\"Target\", \"Count\"]\n",
    "    df_counts[\"Percent\"] = df_counts[\"Count\"] / sum(df_counts[\"Count\"])\n",
    "    print(\"{0} target value count:\\n{1}\\n\".format(name_, df_counts))"
   ]
  },
  {
   "cell_type": "code",
   "execution_count": 7,
   "metadata": {},
   "outputs": [],
   "source": [
    "def knn(X, y, Xtest, num_neighbors):\n",
    "    \"\"\"\n",
    "    Execute k nearest neighbors classification algorithm.\n",
    "\n",
    "    Parameters\n",
    "    ----------\n",
    "    X : Dd-array\n",
    "        the training dataframe\n",
    "    y : 1d-array\n",
    "        the training response values\n",
    "    Xtest : Dd-array\n",
    "        the testing dataframe for which predictions are sought\n",
    "    num_neighbors : integer\n",
    "        the number of neighbors used to generate the predictions\n",
    "\n",
    "    Returns\n",
    "    -------\n",
    "    array\n",
    "        the predicted classes array, has length equal to number of rows in Xtest\n",
    "    \"\"\"\n",
    "    dists = sp_dist.cdist(Xtest, X, \"minkowski\", p=2)\n",
    "    min_indices = [dists[i,:].argsort()[:num_neighbors] for i in range(Xtest.shape[0])]\n",
    "    ypred = [np.argmax(np.bincount(y[i])) for i in min_indices]\n",
    "    return np.array(ypred)"
   ]
  },
  {
   "cell_type": "code",
   "execution_count": 8,
   "metadata": {},
   "outputs": [],
   "source": [
    "ypred = knn(X=Xtrain, y=ytrain, Xtest=Xtest, num_neighbors=K)"
   ]
  },
  {
   "cell_type": "code",
   "execution_count": 9,
   "metadata": {},
   "outputs": [
    {
     "name": "stdout",
     "output_type": "stream",
     "text": [
      "\n",
      "    Confusion Matrix\n",
      "    \n",
      "    Rows: Actuals, Columns: Predictions\n",
      "    \n",
      "    [[tn:68, fp:2], \n",
      "     [fn:5, tp:38]]\n",
      "    \n"
     ]
    }
   ],
   "source": [
    "tp = len(np.where((ytest == 1) & (ypred == 1))[0])\n",
    "fp = len(np.where((ytest == 0) & (ypred == 1))[0])\n",
    "fn = len(np.where((ytest == 1) & (ypred == 0))[0])\n",
    "tn = len(np.where((ytest == 0) & (ypred == 0))[0])\n",
    "\n",
    "print(\n",
    "    \"\"\"\n",
    "    Confusion Matrix\n",
    "    \n",
    "    Rows: Actuals, Columns: Predictions\n",
    "    \n",
    "    [[tn:{tn}, fp:{fp}], \n",
    "     [fn:{fn}, tp:{tp}]]\n",
    "    \"\"\".format(tn=tn, fp=fp, fn=fn, tp=tp)\n",
    ")"
   ]
  },
  {
   "cell_type": "code",
   "execution_count": 10,
   "metadata": {
    "scrolled": true
   },
   "outputs": [
    {
     "data": {
      "text/html": [
       "<div>\n",
       "<style scoped>\n",
       "    .dataframe tbody tr th:only-of-type {\n",
       "        vertical-align: middle;\n",
       "    }\n",
       "\n",
       "    .dataframe tbody tr th {\n",
       "        vertical-align: top;\n",
       "    }\n",
       "\n",
       "    .dataframe thead th {\n",
       "        text-align: right;\n",
       "    }\n",
       "</style>\n",
       "<table border=\"1\" class=\"dataframe\">\n",
       "  <thead>\n",
       "    <tr style=\"text-align: right;\">\n",
       "      <th></th>\n",
       "      <th>Metric</th>\n",
       "      <th>Score</th>\n",
       "    </tr>\n",
       "  </thead>\n",
       "  <tbody>\n",
       "    <tr>\n",
       "      <td>0</td>\n",
       "      <td>Accurary</td>\n",
       "      <td>0.94</td>\n",
       "    </tr>\n",
       "    <tr>\n",
       "      <td>1</td>\n",
       "      <td>ErrorRate</td>\n",
       "      <td>0.06</td>\n",
       "    </tr>\n",
       "    <tr>\n",
       "      <td>2</td>\n",
       "      <td>F1</td>\n",
       "      <td>0.92</td>\n",
       "    </tr>\n",
       "    <tr>\n",
       "      <td>3</td>\n",
       "      <td>FPR</td>\n",
       "      <td>0.03</td>\n",
       "    </tr>\n",
       "    <tr>\n",
       "      <td>4</td>\n",
       "      <td>FNR</td>\n",
       "      <td>0.12</td>\n",
       "    </tr>\n",
       "  </tbody>\n",
       "</table>\n",
       "</div>"
      ],
      "text/plain": [
       "      Metric  Score\n",
       "0   Accurary   0.94\n",
       "1  ErrorRate   0.06\n",
       "2         F1   0.92\n",
       "3        FPR   0.03\n",
       "4        FNR   0.12"
      ]
     },
     "execution_count": 10,
     "metadata": {},
     "output_type": "execute_result"
    }
   ],
   "source": [
    "metrics = {\n",
    "    \"Metric\": [\n",
    "        \"Accurary\", \n",
    "        \"ErrorRate\", \n",
    "        \"F1\", \n",
    "        \"FPR\", \n",
    "        \"FNR\"],\n",
    "    \"Score\": [\n",
    "        round((tp + tn) / (tp + fp + fn + tn), 2), \n",
    "        round(1 - ((tp + tn) / (tp + fp + fn + tn)), 2), \n",
    "        round((2 * tp) / ((2 * tp) + fp + fn), 2), \n",
    "        round(fp / (fp + tn), 2), \n",
    "        round(fn / (fn + tp), 2)]\n",
    "}\n",
    "\n",
    "metrics = pd.DataFrame(metrics)\n",
    "metrics"
   ]
  },
  {
   "cell_type": "code",
   "execution_count": null,
   "metadata": {},
   "outputs": [],
   "source": []
  }
 ],
 "metadata": {
  "kernelspec": {
   "display_name": "Python 3",
   "language": "python",
   "name": "python3"
  },
  "language_info": {
   "codemirror_mode": {
    "name": "ipython",
    "version": 3
   },
   "file_extension": ".py",
   "mimetype": "text/x-python",
   "name": "python",
   "nbconvert_exporter": "python",
   "pygments_lexer": "ipython3",
   "version": "3.7.4"
  }
 },
 "nbformat": 4,
 "nbformat_minor": 2
}
